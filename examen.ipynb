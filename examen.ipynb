{
 "cells": [
  {
   "cell_type": "code",
   "execution_count": 4,
   "metadata": {},
   "outputs": [],
   "source": [
    "#En caso de que sean variables categóricas reemplazar por el valor “others”\n",
    "import pandas as pd\n",
    "dataset1 = pd.read_csv(\"BankChurners.csv\")"
   ]
  },
  {
   "cell_type": "markdown",
   "metadata": {},
   "source": [
    "#### A) c) "
   ]
  },
  {
   "cell_type": "markdown",
   "metadata": {},
   "source": [
    "#### "
   ]
  },
  {
   "cell_type": "code",
   "execution_count": 119,
   "metadata": {},
   "outputs": [],
   "source": [
    "dataset1.loc[dataset1.Education_Level == 'Unknown', 'Education_Level'] = 'Others'\n",
    "dataset1.loc[dataset1.Marital_Status == 'Unknown', 'Marital_Status'] = 'Others'\n",
    "dataset1.loc[dataset1.Income_Category == 'Unknown', 'Income_Category'] = 'Others'"
   ]
  },
  {
   "cell_type": "code",
   "execution_count": 8,
   "metadata": {},
   "outputs": [
    {
     "data": {
      "text/html": [
       "<div>\n",
       "<style scoped>\n",
       "    .dataframe tbody tr th:only-of-type {\n",
       "        vertical-align: middle;\n",
       "    }\n",
       "\n",
       "    .dataframe tbody tr th {\n",
       "        vertical-align: top;\n",
       "    }\n",
       "\n",
       "    .dataframe thead th {\n",
       "        text-align: right;\n",
       "    }\n",
       "</style>\n",
       "<table border=\"1\" class=\"dataframe\">\n",
       "  <thead>\n",
       "    <tr style=\"text-align: right;\">\n",
       "      <th></th>\n",
       "      <th>CLIENTNUM</th>\n",
       "      <th>Attrition_Flag</th>\n",
       "      <th>Customer_Age</th>\n",
       "      <th>Gender</th>\n",
       "      <th>Dependent_count</th>\n",
       "      <th>Education_Level</th>\n",
       "      <th>Marital_Status</th>\n",
       "      <th>Income_Category</th>\n",
       "      <th>Card_Category</th>\n",
       "      <th>Months_on_book</th>\n",
       "      <th>...</th>\n",
       "      <th>Credit_Limit</th>\n",
       "      <th>Total_Revolving_Bal</th>\n",
       "      <th>Avg_Open_To_Buy</th>\n",
       "      <th>Total_Amt_Chng_Q4_Q1</th>\n",
       "      <th>Total_Trans_Amt</th>\n",
       "      <th>Total_Trans_Ct</th>\n",
       "      <th>Total_Ct_Chng_Q4_Q1</th>\n",
       "      <th>Avg_Utilization_Ratio</th>\n",
       "      <th>Naive_Bayes_Classifier_Attrition_Flag_Card_Category_Contacts_Count_12_mon_Dependent_count_Education_Level_Months_Inactive_12_mon_1</th>\n",
       "      <th>Naive_Bayes_Classifier_Attrition_Flag_Card_Category_Contacts_Count_12_mon_Dependent_count_Education_Level_Months_Inactive_12_mon_2</th>\n",
       "    </tr>\n",
       "  </thead>\n",
       "  <tbody>\n",
       "    <tr>\n",
       "      <th>0</th>\n",
       "      <td>768805383</td>\n",
       "      <td>Existing Customer</td>\n",
       "      <td>45</td>\n",
       "      <td>M</td>\n",
       "      <td>3</td>\n",
       "      <td>High School</td>\n",
       "      <td>Married</td>\n",
       "      <td>$60K - $80K</td>\n",
       "      <td>Blue</td>\n",
       "      <td>39</td>\n",
       "      <td>...</td>\n",
       "      <td>12691.0</td>\n",
       "      <td>777</td>\n",
       "      <td>11914.0</td>\n",
       "      <td>1.335</td>\n",
       "      <td>1144</td>\n",
       "      <td>42</td>\n",
       "      <td>1.625</td>\n",
       "      <td>0.061</td>\n",
       "      <td>0.000093</td>\n",
       "      <td>0.99991</td>\n",
       "    </tr>\n",
       "    <tr>\n",
       "      <th>1</th>\n",
       "      <td>818770008</td>\n",
       "      <td>Existing Customer</td>\n",
       "      <td>49</td>\n",
       "      <td>F</td>\n",
       "      <td>5</td>\n",
       "      <td>Graduate</td>\n",
       "      <td>Single</td>\n",
       "      <td>Less than $40K</td>\n",
       "      <td>Blue</td>\n",
       "      <td>44</td>\n",
       "      <td>...</td>\n",
       "      <td>8256.0</td>\n",
       "      <td>864</td>\n",
       "      <td>7392.0</td>\n",
       "      <td>1.541</td>\n",
       "      <td>1291</td>\n",
       "      <td>33</td>\n",
       "      <td>3.714</td>\n",
       "      <td>0.105</td>\n",
       "      <td>0.000057</td>\n",
       "      <td>0.99994</td>\n",
       "    </tr>\n",
       "  </tbody>\n",
       "</table>\n",
       "<p>2 rows × 23 columns</p>\n",
       "</div>"
      ],
      "text/plain": [
       "   CLIENTNUM     Attrition_Flag  Customer_Age Gender  Dependent_count  \\\n",
       "0  768805383  Existing Customer            45      M                3   \n",
       "1  818770008  Existing Customer            49      F                5   \n",
       "\n",
       "  Education_Level Marital_Status Income_Category Card_Category  \\\n",
       "0     High School        Married     $60K - $80K          Blue   \n",
       "1        Graduate         Single  Less than $40K          Blue   \n",
       "\n",
       "   Months_on_book  ...  Credit_Limit  Total_Revolving_Bal  Avg_Open_To_Buy  \\\n",
       "0              39  ...       12691.0                  777          11914.0   \n",
       "1              44  ...        8256.0                  864           7392.0   \n",
       "\n",
       "   Total_Amt_Chng_Q4_Q1  Total_Trans_Amt  Total_Trans_Ct  Total_Ct_Chng_Q4_Q1  \\\n",
       "0                 1.335             1144              42                1.625   \n",
       "1                 1.541             1291              33                3.714   \n",
       "\n",
       "   Avg_Utilization_Ratio  \\\n",
       "0                  0.061   \n",
       "1                  0.105   \n",
       "\n",
       "   Naive_Bayes_Classifier_Attrition_Flag_Card_Category_Contacts_Count_12_mon_Dependent_count_Education_Level_Months_Inactive_12_mon_1  \\\n",
       "0                                           0.000093                                                                                    \n",
       "1                                           0.000057                                                                                    \n",
       "\n",
       "   Naive_Bayes_Classifier_Attrition_Flag_Card_Category_Contacts_Count_12_mon_Dependent_count_Education_Level_Months_Inactive_12_mon_2  \n",
       "0                                            0.99991                                                                                   \n",
       "1                                            0.99994                                                                                   \n",
       "\n",
       "[2 rows x 23 columns]"
      ]
     },
     "execution_count": 8,
     "metadata": {},
     "output_type": "execute_result"
    }
   ],
   "source": [
    "dataset1.head(2)"
   ]
  },
  {
   "cell_type": "code",
   "execution_count": 12,
   "metadata": {},
   "outputs": [
    {
     "data": {
      "text/plain": [
       "Index(['CLIENTNUM', 'Attrition_Flag', 'Customer_Age', 'Gender',\n",
       "       'Dependent_count', 'Education_Level', 'Marital_Status',\n",
       "       'Income_Category', 'Card_Category', 'Months_on_book',\n",
       "       'Total_Relationship_Count', 'Months_Inactive_12_mon',\n",
       "       'Contacts_Count_12_mon', 'Credit_Limit', 'Total_Revolving_Bal',\n",
       "       'Avg_Open_To_Buy', 'Total_Amt_Chng_Q4_Q1', 'Total_Trans_Amt',\n",
       "       'Total_Trans_Ct', 'Total_Ct_Chng_Q4_Q1', 'Avg_Utilization_Ratio',\n",
       "       'Naive_Bayes_Classifier_Attrition_Flag_Card_Category_Contacts_Count_12_mon_Dependent_count_Education_Level_Months_Inactive_12_mon_1',\n",
       "       'Naive_Bayes_Classifier_Attrition_Flag_Card_Category_Contacts_Count_12_mon_Dependent_count_Education_Level_Months_Inactive_12_mon_2'],\n",
       "      dtype='object')"
      ]
     },
     "execution_count": 12,
     "metadata": {},
     "output_type": "execute_result"
    }
   ],
   "source": [
    "dataset1.columns"
   ]
  },
  {
   "cell_type": "code",
   "execution_count": 13,
   "metadata": {},
   "outputs": [],
   "source": [
    "### Seleccion de columnas categoricas\n",
    "categorical = [ 'Attrition_Flag', 'Customer_Age', 'Gender',\n",
    "        'Education_Level', 'Marital_Status',\n",
    "        'Card_Category']"
   ]
  },
  {
   "cell_type": "code",
   "execution_count": 96,
   "metadata": {},
   "outputs": [
    {
     "data": {
      "text/plain": [
       "(10127, 23)"
      ]
     },
     "execution_count": 96,
     "metadata": {},
     "output_type": "execute_result"
    }
   ],
   "source": [
    "categorical\n",
    "dataset1.shape"
   ]
  },
  {
   "cell_type": "code",
   "execution_count": 33,
   "metadata": {},
   "outputs": [],
   "source": [
    "target = .95\n",
    "\n",
    "valid_columns = []\n",
    "columns_many_level = []\n",
    "columns_one_level = []\n",
    "\n",
    "for c_ in categorical:\n",
    "   x = dataset1.loc[ :, [c_]].drop_duplicates()\n",
    "   unique_values = x.shape[0]\n",
    "\n",
    "   if unique_values == 1:\n",
    "    columns_one_level.append(c_)\n",
    "   elif (unique_values/dataset1.shape[0]) > target :\n",
    "      columns_many_level.append(c_)\n",
    "   else:\n",
    "      valid_columns.append(c_)\n",
    "\n",
    "\n"
   ]
  },
  {
   "cell_type": "code",
   "execution_count": 54,
   "metadata": {},
   "outputs": [],
   "source": [
    "categorical\n"
   ]
  },
  {
   "cell_type": "markdown",
   "metadata": {},
   "source": [
    "#### Tratamiento columna 'Customer_Age'"
   ]
  },
  {
   "cell_type": "code",
   "execution_count": null,
   "metadata": {},
   "outputs": [],
   "source": [
    "freq_customer_age = dataset1.groupby([\"Customer_Age\"], as_index=False).agg({\"CLIENTNUM\": [\"count\"]})\n",
    "freq_customer_age.columns = freq_customer_age.columns.droplevel(1)\n",
    "freq_customer_age['Percentage'] = freq_customer_age['CLIENTNUM'] / dataset1.shape[0]\n",
    "freq_customer_age['Customr_Age'] = 'Others'\n",
    "freq_customer_age['Customr_Age'] = freq_customer_age.apply(lambda r: r['Customer_Age'] if r['Percentage'] > 0.0303 else 'Others', axis=1)\n",
    "freq_customer_age.sort_values(['Percentage'], ascending=False)\n",
    "freq_customer_age = freq_customer_age.loc[:, ['Customer_Age', 'Customr_Age']]\n",
    "dataset1.merge(freq_customer_age, on='Customer_Age', how='left')"
   ]
  },
  {
   "cell_type": "markdown",
   "metadata": {},
   "source": [
    "#### Tratamiento columna 'Card_Category'"
   ]
  },
  {
   "cell_type": "code",
   "execution_count": null,
   "metadata": {},
   "outputs": [],
   "source": [
    "freq_card = dataset1.groupby([\"Card_Category\"], as_index=False).agg({\"CLIENTNUM\": [\"count\"]})\n",
    "freq_card.columns = freq_card.columns.droplevel(1)\n",
    "freq_card['Percentage'] = freq_card['CLIENTNUM'] / dataset1.shape[0]\n",
    "freq_card['Card_Catg'] = 'Others'\n",
    "freq_card['Card_Catg'] = freq_card.apply(lambda r: r['Card_Category'] if r['Percentage'] > 0.0303 else 'Others', axis=1)\n",
    "freq_card.sort_values(['Percentage'], ascending=False)\n",
    "freq_card = freq_card.loc[ : , ['Card_Category', 'Card_Catg' ]]\n",
    "dataset1.merge(freq_card, on=['Card_Category'], how='left') "
   ]
  },
  {
   "cell_type": "markdown",
   "metadata": {},
   "source": [
    "#### Tratamiento columna 'Education_Level'"
   ]
  },
  {
   "cell_type": "code",
   "execution_count": null,
   "metadata": {},
   "outputs": [],
   "source": [
    "freq_education = dataset1.groupby([\"Education_Level\"], as_index=False).agg({\"CLIENTNUM\": [\"count\"]})\n",
    "freq_education.columns = freq_education.columns.droplevel(1)\n",
    "freq_education['Percentage'] = freq_education['CLIENTNUM'] / dataset1.shape[0]\n",
    "freq_education['Edu_Lvl'] = 'Others'\n",
    "freq_education['Edu_Lvl'] = freq_education.apply(lambda r: r['Edu_Lvl'] if r['Percentage'] > 0.0303 else 'Others', axis=1)\n",
    "freq_education.sort_values(['Percentage'], ascending=False)\n",
    "freq_education = freq_education.loc[ : , ['Education_Level', 'Edu_Lvl' ]]\n",
    "dataset1.merge(freq_education, on=['Education_Level'], how='left') "
   ]
  },
  {
   "cell_type": "markdown",
   "metadata": {},
   "source": [
    "#### Tratamiento columna 'Gender'"
   ]
  },
  {
   "cell_type": "code",
   "execution_count": 94,
   "metadata": {},
   "outputs": [
    {
     "data": {
      "text/html": [
       "<div>\n",
       "<style scoped>\n",
       "    .dataframe tbody tr th:only-of-type {\n",
       "        vertical-align: middle;\n",
       "    }\n",
       "\n",
       "    .dataframe tbody tr th {\n",
       "        vertical-align: top;\n",
       "    }\n",
       "\n",
       "    .dataframe thead tr th {\n",
       "        text-align: left;\n",
       "    }\n",
       "</style>\n",
       "<table border=\"1\" class=\"dataframe\">\n",
       "  <thead>\n",
       "    <tr>\n",
       "      <th></th>\n",
       "      <th>Gender</th>\n",
       "      <th>CLIENTNUM</th>\n",
       "    </tr>\n",
       "    <tr>\n",
       "      <th></th>\n",
       "      <th></th>\n",
       "      <th>count</th>\n",
       "    </tr>\n",
       "  </thead>\n",
       "  <tbody>\n",
       "    <tr>\n",
       "      <th>0</th>\n",
       "      <td>F</td>\n",
       "      <td>5358</td>\n",
       "    </tr>\n",
       "    <tr>\n",
       "      <th>1</th>\n",
       "      <td>M</td>\n",
       "      <td>4769</td>\n",
       "    </tr>\n",
       "  </tbody>\n",
       "</table>\n",
       "</div>"
      ],
      "text/plain": [
       "  Gender CLIENTNUM\n",
       "             count\n",
       "0      F      5358\n",
       "1      M      4769"
      ]
     },
     "execution_count": 94,
     "metadata": {},
     "output_type": "execute_result"
    }
   ],
   "source": [
    "freq_gender = dataset1.groupby([\"Gender\"], as_index=False).agg({\"CLIENTNUM\": [\"count\"]})\n",
    "freq_gender.columns = freq_gender.columns.droplevel(1)\n",
    "freq_gender['Percentage'] = freq_gender['CLIENTNUM'] / dataset1.shape[0]\n",
    "freq_gender['Gender_T'] = 'Others'\n",
    "freq_gender['Gender_T'] = freq_gender.apply(lambda r: r['Gender_T'] if r['Percentage'] > 0.0303 else 'Others', axis=1)\n",
    "freq_gender.sort_values(['Percentage'], ascending=False)\n",
    "freq_gender = freq_gender.loc[ : , ['Gender', 'Gender_T' ]]\n",
    "dataset1.merge(freq_gender, on=['Gender'], how='left')"
   ]
  },
  {
   "cell_type": "markdown",
   "metadata": {},
   "source": [
    "#### Tratamiento columna 'Marital_Status'"
   ]
  },
  {
   "cell_type": "code",
   "execution_count": 95,
   "metadata": {},
   "outputs": [
    {
     "data": {
      "text/plain": [
       "(10127, 23)"
      ]
     },
     "execution_count": 95,
     "metadata": {},
     "output_type": "execute_result"
    }
   ],
   "source": []
  },
  {
   "cell_type": "code",
   "execution_count": null,
   "metadata": {},
   "outputs": [],
   "source": [
    "target = .95\n",
    "\n",
    "valid_columns = []\n",
    "columns_many_level = []\n",
    "columns_one_level = []\n",
    "\n",
    "for c_ in categorical:\n",
    "   x = dataset1.loc[ :, [c_]].drop_duplicates()\n",
    "   unique_values = x.shape[0]\n",
    "\n",
    "   if unique_values == 1:\n",
    "    columns_one_level.append(c_)\n",
    "   elif (unique_values/dataset1.shape[0]) > target :\n",
    "      columns_many_level.append(c_)\n",
    "   else:\n",
    "      valid_columns.append(c_)"
   ]
  },
  {
   "cell_type": "code",
   "execution_count": 99,
   "metadata": {},
   "outputs": [],
   "source": [
    "dataset1.loc[dataset1.Education_Level == 'Unknown', 'Education_Level'] = 'Others'\n",
    "dataset1.loc[dataset1.Marital_Status == 'Unknown', 'Marital_Status'] = 'Others'\n",
    "dataset1.loc[dataset1.Income_Category == 'Unknown', 'Income_Category'] = 'Others'\n",
    "dataset1.to_csv(\"BankChurners2.csv\", index=False)"
   ]
  }
 ],
 "metadata": {
  "kernelspec": {
   "display_name": "Python 3.10.8 ('ia')",
   "language": "python",
   "name": "python3"
  },
  "language_info": {
   "codemirror_mode": {
    "name": "ipython",
    "version": 3
   },
   "file_extension": ".py",
   "mimetype": "text/x-python",
   "name": "python",
   "nbconvert_exporter": "python",
   "pygments_lexer": "ipython3",
   "version": "3.10.8"
  },
  "orig_nbformat": 4,
  "vscode": {
   "interpreter": {
    "hash": "b352f4f174ff6c8312444ef8a6b9052b3bfd45d822739c0e4e13e60e6cfd847c"
   }
  }
 },
 "nbformat": 4,
 "nbformat_minor": 2
}
