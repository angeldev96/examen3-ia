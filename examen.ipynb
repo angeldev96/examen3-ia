{
 "cells": [
  {
   "cell_type": "code",
   "execution_count": 4,
   "metadata": {},
   "outputs": [],
   "source": [
    "#En caso de que sean variables categóricas reemplazar por el valor “others”\n",
    "import pandas as pd\n",
    "dataset1 = pd.read_csv(\"BankChurners.csv\")"
   ]
  },
  {
   "cell_type": "markdown",
   "metadata": {},
   "source": [
    "#### A) c) "
   ]
  },
  {
   "cell_type": "markdown",
   "metadata": {},
   "source": [
    "#### Reemplazo de valores nulos de variables categoricas a 'Others'"
   ]
  },
  {
   "cell_type": "code",
   "execution_count": 119,
   "metadata": {},
   "outputs": [],
   "source": [
    "dataset1.loc[dataset1.Education_Level == 'Unknown', 'Education_Level'] = 'Others'\n",
    "dataset1.loc[dataset1.Marital_Status == 'Unknown', 'Marital_Status'] = 'Others'\n",
    "dataset1.loc[dataset1.Income_Category == 'Unknown', 'Income_Category'] = 'Others'"
   ]
  },
  {
   "cell_type": "code",
   "execution_count": 13,
   "metadata": {},
   "outputs": [],
   "source": [
    "### Seleccion de columnas categoricas\n",
    "categorical = [ 'Attrition_Flag', 'Customer_Age', 'Gender',\n",
    "        'Education_Level', 'Marital_Status',\n",
    "        'Card_Category']"
   ]
  },
  {
   "cell_type": "code",
   "execution_count": 33,
   "metadata": {},
   "outputs": [],
   "source": [
    "target = .95\n",
    "\n",
    "valid_columns = []\n",
    "columns_many_level = []\n",
    "columns_one_level = []\n",
    "\n",
    "for c_ in categorical:\n",
    "   x = dataset1.loc[ :, [c_]].drop_duplicates()\n",
    "   unique_values = x.shape[0]\n",
    "\n",
    "   if unique_values == 1:\n",
    "    columns_one_level.append(c_)\n",
    "   elif (unique_values/dataset1.shape[0]) > target :\n",
    "      columns_many_level.append(c_)\n",
    "   else:\n",
    "      valid_columns.append(c_)\n",
    "\n",
    "\n"
   ]
  },
  {
   "cell_type": "code",
   "execution_count": 120,
   "metadata": {},
   "outputs": [
    {
     "data": {
      "text/plain": [
       "['Attrition_Flag',\n",
       " 'Customer_Age',\n",
       " 'Gender',\n",
       " 'Education_Level',\n",
       " 'Marital_Status',\n",
       " 'Card_Category']"
      ]
     },
     "execution_count": 120,
     "metadata": {},
     "output_type": "execute_result"
    }
   ],
   "source": [
    "categorical\n"
   ]
  },
  {
   "cell_type": "markdown",
   "metadata": {},
   "source": [
    "#### Tratamiento columna 'Customer_Age'"
   ]
  },
  {
   "cell_type": "code",
   "execution_count": null,
   "metadata": {},
   "outputs": [],
   "source": [
    "freq_customer_age = dataset1.groupby([\"Customer_Age\"], as_index=False).agg({\"CLIENTNUM\": [\"count\"]})\n",
    "freq_customer_age.columns = freq_customer_age.columns.droplevel(1)\n",
    "freq_customer_age['Percentage'] = freq_customer_age['CLIENTNUM'] / dataset1.shape[0]\n",
    "freq_customer_age['Customr_Age'] = 'Others'\n",
    "freq_customer_age['Customr_Age'] = freq_customer_age.apply(lambda r: r['Customer_Age'] if r['Percentage'] > 0.0303 else 'Others', axis=1)\n",
    "freq_customer_age.sort_values(['Percentage'], ascending=False)\n",
    "freq_customer_age = freq_customer_age.loc[:, ['Customer_Age', 'Customr_Age']]\n",
    "dataset1.merge(freq_customer_age, on='Customer_Age', how='left')"
   ]
  },
  {
   "cell_type": "markdown",
   "metadata": {},
   "source": [
    "#### Tratamiento columna 'Card_Category'"
   ]
  },
  {
   "cell_type": "code",
   "execution_count": null,
   "metadata": {},
   "outputs": [],
   "source": [
    "freq_card = dataset1.groupby([\"Card_Category\"], as_index=False).agg({\"CLIENTNUM\": [\"count\"]})\n",
    "freq_card.columns = freq_card.columns.droplevel(1)\n",
    "freq_card['Percentage'] = freq_card['CLIENTNUM'] / dataset1.shape[0]\n",
    "freq_card['Card_Catg'] = 'Others'\n",
    "freq_card['Card_Catg'] = freq_card.apply(lambda r: r['Card_Category'] if r['Percentage'] > 0.0303 else 'Others', axis=1)\n",
    "freq_card.sort_values(['Percentage'], ascending=False)\n",
    "freq_card = freq_card.loc[ : , ['Card_Category', 'Card_Catg' ]]\n",
    "dataset1.merge(freq_card, on=['Card_Category'], how='left') "
   ]
  },
  {
   "cell_type": "markdown",
   "metadata": {},
   "source": [
    "#### Tratamiento columna 'Education_Level'"
   ]
  },
  {
   "cell_type": "code",
   "execution_count": null,
   "metadata": {},
   "outputs": [],
   "source": [
    "freq_education = dataset1.groupby([\"Education_Level\"], as_index=False).agg({\"CLIENTNUM\": [\"count\"]})\n",
    "freq_education.columns = freq_education.columns.droplevel(1)\n",
    "freq_education['Percentage'] = freq_education['CLIENTNUM'] / dataset1.shape[0]\n",
    "freq_education['Edu_Lvl'] = 'Others'\n",
    "freq_education['Edu_Lvl'] = freq_education.apply(lambda r: r['Edu_Lvl'] if r['Percentage'] > 0.0303 else 'Others', axis=1)\n",
    "freq_education.sort_values(['Percentage'], ascending=False)\n",
    "freq_education = freq_education.loc[ : , ['Education_Level', 'Edu_Lvl' ]]\n",
    "dataset1.merge(freq_education, on=['Education_Level'], how='left') "
   ]
  },
  {
   "cell_type": "markdown",
   "metadata": {},
   "source": [
    "#### Tratamiento columna 'Gender'"
   ]
  },
  {
   "cell_type": "code",
   "execution_count": 94,
   "metadata": {},
   "outputs": [
    {
     "data": {
      "text/html": [
       "<div>\n",
       "<style scoped>\n",
       "    .dataframe tbody tr th:only-of-type {\n",
       "        vertical-align: middle;\n",
       "    }\n",
       "\n",
       "    .dataframe tbody tr th {\n",
       "        vertical-align: top;\n",
       "    }\n",
       "\n",
       "    .dataframe thead tr th {\n",
       "        text-align: left;\n",
       "    }\n",
       "</style>\n",
       "<table border=\"1\" class=\"dataframe\">\n",
       "  <thead>\n",
       "    <tr>\n",
       "      <th></th>\n",
       "      <th>Gender</th>\n",
       "      <th>CLIENTNUM</th>\n",
       "    </tr>\n",
       "    <tr>\n",
       "      <th></th>\n",
       "      <th></th>\n",
       "      <th>count</th>\n",
       "    </tr>\n",
       "  </thead>\n",
       "  <tbody>\n",
       "    <tr>\n",
       "      <th>0</th>\n",
       "      <td>F</td>\n",
       "      <td>5358</td>\n",
       "    </tr>\n",
       "    <tr>\n",
       "      <th>1</th>\n",
       "      <td>M</td>\n",
       "      <td>4769</td>\n",
       "    </tr>\n",
       "  </tbody>\n",
       "</table>\n",
       "</div>"
      ],
      "text/plain": [
       "  Gender CLIENTNUM\n",
       "             count\n",
       "0      F      5358\n",
       "1      M      4769"
      ]
     },
     "execution_count": 94,
     "metadata": {},
     "output_type": "execute_result"
    }
   ],
   "source": [
    "freq_gender = dataset1.groupby([\"Gender\"], as_index=False).agg({\"CLIENTNUM\": [\"count\"]})\n",
    "freq_gender.columns = freq_gender.columns.droplevel(1)\n",
    "freq_gender['Percentage'] = freq_gender['CLIENTNUM'] / dataset1.shape[0]\n",
    "freq_gender['Gender_T'] = 'Others'\n",
    "freq_gender['Gender_T'] = freq_gender.apply(lambda r: r['Gender_T'] if r['Percentage'] > 0.0303 else 'Others', axis=1)\n",
    "freq_gender.sort_values(['Percentage'], ascending=False)\n",
    "freq_gender = freq_gender.loc[ : , ['Gender', 'Gender_T' ]]\n",
    "dataset1.merge(freq_gender, on=['Gender'], how='left')"
   ]
  },
  {
   "cell_type": "markdown",
   "metadata": {},
   "source": [
    "#### Tratamiento columna 'Marital_Status'"
   ]
  },
  {
   "cell_type": "code",
   "execution_count": 95,
   "metadata": {},
   "outputs": [
    {
     "data": {
      "text/plain": [
       "(10127, 23)"
      ]
     },
     "execution_count": 95,
     "metadata": {},
     "output_type": "execute_result"
    }
   ],
   "source": []
  },
  {
   "cell_type": "code",
   "execution_count": null,
   "metadata": {},
   "outputs": [],
   "source": [
    "target = .95\n",
    "\n",
    "valid_columns = []\n",
    "columns_many_level = []\n",
    "columns_one_level = []\n",
    "\n",
    "for c_ in categorical:\n",
    "   x = dataset1.loc[ :, [c_]].drop_duplicates()\n",
    "   unique_values = x.shape[0]\n",
    "\n",
    "   if unique_values == 1:\n",
    "    columns_one_level.append(c_)\n",
    "   elif (unique_values/dataset1.shape[0]) > target :\n",
    "      columns_many_level.append(c_)\n",
    "   else:\n",
    "      valid_columns.append(c_)"
   ]
  },
  {
   "cell_type": "code",
   "execution_count": 99,
   "metadata": {},
   "outputs": [],
   "source": [
    "dataset1.loc[dataset1.Education_Level == 'Unknown', 'Education_Level'] = 'Others'\n",
    "dataset1.loc[dataset1.Marital_Status == 'Unknown', 'Marital_Status'] = 'Others'\n",
    "dataset1.loc[dataset1.Income_Category == 'Unknown', 'Income_Category'] = 'Others'\n",
    "dataset1.to_csv(\"BankChurners2.csv\", index=False)"
   ]
  }
 ],
 "metadata": {
  "kernelspec": {
   "display_name": "Python 3.10.8 ('ia')",
   "language": "python",
   "name": "python3"
  },
  "language_info": {
   "codemirror_mode": {
    "name": "ipython",
    "version": 3
   },
   "file_extension": ".py",
   "mimetype": "text/x-python",
   "name": "python",
   "nbconvert_exporter": "python",
   "pygments_lexer": "ipython3",
   "version": "3.10.8"
  },
  "orig_nbformat": 4,
  "vscode": {
   "interpreter": {
    "hash": "b352f4f174ff6c8312444ef8a6b9052b3bfd45d822739c0e4e13e60e6cfd847c"
   }
  }
 },
 "nbformat": 4,
 "nbformat_minor": 2
}
